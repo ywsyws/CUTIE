{
  "nbformat": 4,
  "nbformat_minor": 0,
  "metadata": {
    "colab": {
      "name": "CUTIE.ipynb",
      "provenance": [],
      "authorship_tag": "ABX9TyPdCbQbshWTfUsYM3Eu7Bgx",
      "include_colab_link": true
    },
    "kernelspec": {
      "name": "python3",
      "display_name": "Python 3"
    }
  },
  "cells": [
    {
      "cell_type": "markdown",
      "metadata": {
        "id": "view-in-github",
        "colab_type": "text"
      },
      "source": [
        "<a href=\"https://colab.research.google.com/github/ywsyws/CUTIE/blob/main/CUTIE.ipynb\" target=\"_parent\"><img src=\"https://colab.research.google.com/assets/colab-badge.svg\" alt=\"Open In Colab\"/></a>"
      ]
    },
    {
      "cell_type": "markdown",
      "metadata": {
        "id": "y-n4WnjsHLPI"
      },
      "source": [
        "# Candidate Testing for Young App\n",
        "This is a notebook usibng CUTIE approach to detect total amount TTC on receipt document\n",
        "\n",
        "# 0. Preparation"
      ]
    },
    {
      "cell_type": "code",
      "metadata": {
        "id": "d7L37NagHEsm"
      },
      "source": [
        "# Import libraries"
      ],
      "execution_count": null,
      "outputs": []
    },
    {
      "cell_type": "code",
      "metadata": {
        "id": "V82E7JUdH0bn"
      },
      "source": [
        "# Import images"
      ],
      "execution_count": null,
      "outputs": []
    },
    {
      "cell_type": "code",
      "metadata": {
        "id": "momM21k4IBQg"
      },
      "source": [
        ""
      ],
      "execution_count": null,
      "outputs": []
    }
  ]
}